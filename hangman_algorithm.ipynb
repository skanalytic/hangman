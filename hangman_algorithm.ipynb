{
 "cells": [
  {
   "cell_type": "markdown",
   "metadata": {},
   "source": [
    "## Hangman Algorithm"
   ]
  },
  {
   "cell_type": "code",
   "execution_count": 65,
   "metadata": {},
   "outputs": [],
   "source": [
    "# Load modules \n",
    "from collections import Counter\n",
    "import re"
   ]
  },
  {
   "cell_type": "code",
   "execution_count": 69,
   "metadata": {},
   "outputs": [],
   "source": [
    "# Load english word dictonary \n",
    "def open_and_clean_english_dict(text_file = 'words.txt'):\n",
    "    with open(text_file) as f:\n",
    "        english_dict = f.read().splitlines()\n",
    "    english_dict = list(set([x.lower() for x in english_dict]))\n",
    "    english_dict = [re.sub(r'[^\\w\\s]','',x) for x in english_dict] \n",
    "    return english_dict "
   ]
  },
  {
   "cell_type": "code",
   "execution_count": 27,
   "metadata": {},
   "outputs": [],
   "source": [
    "def reset_game_metrics():\n",
    "    guesses_list = []\n",
    "    num_guesses = 0\n",
    "    num_misses = 0\n",
    "    correct_guess_dict = {}\n",
    "    game_over = False \n",
    "    return guesses_list, num_guesses, num_misses, correct_guess_dict, game_over"
   ]
  },
  {
   "cell_type": "code",
   "execution_count": 15,
   "metadata": {},
   "outputs": [],
   "source": [
    "def pre_process_input(inputword):\n",
    "    outputword = str(inputword).lower()\n",
    "    return outputword"
   ]
  },
  {
   "cell_type": "code",
   "execution_count": 16,
   "metadata": {},
   "outputs": [],
   "source": [
    "## more sophisticated might weight distribution by actual use/commonly known words \n",
    "def get_words_with_len(word_length):\n",
    "    start_words = [word for word in english_dict if len(word) == word_length]\n",
    "    return start_words"
   ]
  },
  {
   "cell_type": "code",
   "execution_count": 17,
   "metadata": {},
   "outputs": [],
   "source": [
    "def get_letter_dist_from_word_list(list_of_words):\n",
    "    all_letters = [list(w) for w in list_of_words]\n",
    "    all_letters_flat = [item for sublist in all_letters for item in sublist]\n",
    "    letter_count = Counter(all_letters_flat)\n",
    "    return letter_count"
   ]
  },
  {
   "cell_type": "code",
   "execution_count": 18,
   "metadata": {},
   "outputs": [],
   "source": [
    "def get_word_so_far(correct_guess_dict):\n",
    "    word_so_far = []\n",
    "    for i in range(0,input_word_length):\n",
    "        if i in correct_guess_dict.keys():\n",
    "            word_so_far.append(correct_guess_dict[i])\n",
    "        else:\n",
    "            word_so_far.append(\"_\")\n",
    "    word_so_far = str(word_so_far)\n",
    "    return word_so_far"
   ]
  },
  {
   "cell_type": "code",
   "execution_count": 19,
   "metadata": {},
   "outputs": [],
   "source": [
    "## SEARCH BY DISTRIBUTION TO FIND FIRST LETTER \n",
    "def guess_using_dist(dist):\n",
    "    global guesses_list\n",
    "    global num_misses\n",
    "    global num_guesses\n",
    "    global correct_guess_dict\n",
    "    global dists_used \n",
    "    \n",
    "    dist = [x for x in ordered_letter_dist if x[0] not in guesses_list]  # remove guesses already made\n",
    "    letter_freq_tuple = dist[0] # get the largest letter frequency  \n",
    "    letter = letter_freq_tuple[0] # get letter only \n",
    "    print(\"LETTER GUESSED: \", letter)\n",
    "    guesses_list.append(letter)\n",
    "    num_guesses += 1\n",
    "    match_found = False \n",
    "    for index, position in enumerate(inputword):\n",
    "        if letter == position:\n",
    "            correct_guess_dict[index] = letter\n",
    "            match_found = True \n",
    "            print(\"MATCH FOUND\")\n",
    "            print(\"NUMBER OF MISSES\", num_misses)\n",
    "            print(\"WORD SO FAR\", get_word_so_far(correct_guess_dict))\n",
    "            print(\" \")\n",
    "    if match_found == False:\n",
    "        print(\"NO MATCH FOUND\")\n",
    "        num_misses += 1\n",
    "        print(\"NUMBER OF MISSES:\", num_misses)\n",
    "        print(\"WORD SO FAR\", get_word_so_far(correct_guess_dict))\n",
    "        print(\" \")\n",
    "    return correct_guess_dict, guesses_list, num_guesses, num_misses "
   ]
  },
  {
   "cell_type": "code",
   "execution_count": 20,
   "metadata": {},
   "outputs": [],
   "source": [
    "## RECALC DISTRIBUTION WITH NEW WORD INFO \n",
    "def get_remaining_words(word_list_in, correct_guess_dict,guesses_list):\n",
    "\n",
    "    remain_words = word_list_in \n",
    "    \n",
    "    # remove words with letters guessed which are wrong and therefore not in it \n",
    "    wrong_letters = [letter for letter in guesses_list if letter not in list(correct_guess_dict.values())]\n",
    "    remain_words_out1 = remain_words \n",
    "    for guess_letter in wrong_letters:\n",
    "        remain_words_out1 = [word for word in remain_words if guess_letter not in word]\n",
    "\n",
    "    # keep only words with correctly guessed letters in the same position \n",
    "    remain_words_out2 = remain_words_out1\n",
    "    for i in correct_guess_dict.keys():\n",
    "        correct_letter = correct_guess_dict[i]\n",
    "        remain_words_out2 = [word for word in remain_words_out1 if correct_letter == word[i]]\n",
    "        \n",
    "    print(\"NUMBER OF WORDS REMAINING\", len(remain_words_out2))\n",
    "    if len(remain_words_out2) < 11:\n",
    "        print(remain_words_out2)\n",
    "    return remain_words_out2\n"
   ]
  },
  {
   "cell_type": "markdown",
   "metadata": {},
   "source": [
    "## Play game"
   ]
  },
  {
   "cell_type": "code",
   "execution_count": 75,
   "metadata": {},
   "outputs": [],
   "source": [
    "guesses_list, num_guesses, num_misses, correct_guess_dict, game_over = reset_game_metrics()\n",
    "english_dict = open_and_clean_english_dict()"
   ]
  },
  {
   "cell_type": "code",
   "execution_count": 78,
   "metadata": {},
   "outputs": [
    {
     "name": "stdout",
     "output_type": "stream",
     "text": [
      "Word is in the dictonary, execute below to play!\n"
     ]
    }
   ],
   "source": [
    "## input word \n",
    "inputword = 'snip'\n",
    "#inputword = input()\n",
    "\n",
    "if len([x for x in english_dict if inputword in x]) == 0:\n",
    "    print(\"Word is not in the dictonary, try another\")\n",
    "else:\n",
    "    print(\"Word is in the dictonary, execute below to play!\")"
   ]
  },
  {
   "cell_type": "code",
   "execution_count": 79,
   "metadata": {},
   "outputs": [
    {
     "name": "stdout",
     "output_type": "stream",
     "text": [
      "LETTER GUESSED:  a\n",
      "NO MATCH FOUND\n",
      "NUMBER OF MISSES: 1\n",
      "WORD SO FAR ['_', '_', '_', '_']\n",
      " \n",
      "NUMBER OF WORDS REMAINING 7138\n",
      "LETTER GUESSED:  e\n",
      "NO MATCH FOUND\n",
      "NUMBER OF MISSES: 2\n",
      "WORD SO FAR ['_', '_', '_', '_']\n",
      " \n",
      "NUMBER OF WORDS REMAINING 4458\n",
      "LETTER GUESSED:  o\n",
      "NO MATCH FOUND\n",
      "NUMBER OF MISSES: 3\n",
      "WORD SO FAR ['_', '_', '_', '_']\n",
      " \n",
      "NUMBER OF WORDS REMAINING 2517\n",
      "LETTER GUESSED:  i\n",
      "MATCH FOUND\n",
      "NUMBER OF MISSES 3\n",
      "WORD SO FAR ['_', '_', 'i', '_']\n",
      " \n",
      "NUMBER OF WORDS REMAINING 310\n",
      "LETTER GUESSED:  s\n",
      "MATCH FOUND\n",
      "NUMBER OF MISSES 3\n",
      "WORD SO FAR ['s', '_', 'i', '_']\n",
      " \n",
      "NUMBER OF WORDS REMAINING 57\n",
      "LETTER GUESSED:  t\n",
      "NO MATCH FOUND\n",
      "NUMBER OF MISSES: 4\n",
      "WORD SO FAR ['s', '_', 'i', '_']\n",
      " \n",
      "NUMBER OF WORDS REMAINING 43\n",
      "LETTER GUESSED:  p\n",
      "MATCH FOUND\n",
      "NUMBER OF MISSES 4\n",
      "WORD SO FAR ['s', '_', 'i', 'p']\n",
      " \n",
      "NUMBER OF WORDS REMAINING 5\n",
      "['slip', 'snip', 'ship', 'slip', 'skip']\n",
      "LETTER GUESSED:  l\n",
      "NO MATCH FOUND\n",
      "NUMBER OF MISSES: 5\n",
      "WORD SO FAR ['s', '_', 'i', 'p']\n",
      " \n",
      "NUMBER OF WORDS REMAINING 3\n",
      "['snip', 'ship', 'skip']\n",
      "LETTER GUESSED:  n\n",
      "MATCH FOUND\n",
      "NUMBER OF MISSES 5\n",
      "WORD SO FAR ['s', 'n', 'i', 'p']\n",
      " \n",
      "NUMBER OF WORDS REMAINING 1\n",
      "['snip']\n",
      "GAME OVER ['s', 'n', 'i', 'p']\n",
      "FINAL NUMBER OF MISSES 5\n"
     ]
    }
   ],
   "source": [
    "inputword = pre_process_input(inputword)\n",
    "input_word_length = len(inputword)\n",
    "start_words = get_words_with_len(input_word_length)\n",
    "\n",
    "while len(correct_guess_dict.keys()) < input_word_length:\n",
    "    letter_dist = get_letter_dist_from_word_list(start_words)\n",
    "    ordered_letter_dist = letter_dist.most_common()\n",
    "\n",
    "    correct_guess_dict, guesses_list, num_guesses, num_misses = guess_using_dist(ordered_letter_dist)\n",
    "    start_words = get_remaining_words(start_words, correct_guess_dict,guesses_list)\n",
    "else:\n",
    "    final_word = str([correct_guess_dict[x] for x in range(0,len(correct_guess_dict.keys()))])\n",
    "    print(\"GAME OVER\", final_word)\n",
    "    print(\"FINAL NUMBER OF MISSES\", num_misses)\n",
    "    guesses_list, num_guesses, num_misses, correct_guess_dict, game_over = reset_game_metrics()"
   ]
  },
  {
   "cell_type": "code",
   "execution_count": null,
   "metadata": {},
   "outputs": [],
   "source": [
    "## TODO\n",
    "\n",
    "# double same letter bug [X]\n",
    "# find better dictonary with plurals etc.  [x]\n",
    "# change finish condition to having all letters not only one candidate left [x]\n",
    "# clean dictonary of punctuation [x]\n",
    "# could it be improved by guesses when small number of words left even at cost of a miss? \n",
    "    # - unlikely as probabiltiy of randomly right word = 1/num_of_remaining_words, \n",
    "    # - which would need to be larger than 1/26-num_guesses at best - even before weighted distribution is considered \n",
    "# remove stopwords?\n",
    "# weight words by commonality \n"
   ]
  }
 ],
 "metadata": {
  "kernelspec": {
   "display_name": "Python (3.6)",
   "language": "python",
   "name": "py36"
  },
  "language_info": {
   "codemirror_mode": {
    "name": "ipython",
    "version": 3
   },
   "file_extension": ".py",
   "mimetype": "text/x-python",
   "name": "python",
   "nbconvert_exporter": "python",
   "pygments_lexer": "ipython3",
   "version": "3.6.6"
  }
 },
 "nbformat": 4,
 "nbformat_minor": 2
}
