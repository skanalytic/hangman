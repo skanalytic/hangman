{
 "cells": [
  {
   "cell_type": "markdown",
   "metadata": {},
   "source": [
    "## Hangman Algorithm"
   ]
  },
  {
   "cell_type": "code",
   "execution_count": 274,
   "metadata": {},
   "outputs": [],
   "source": [
    "# Load modules \n",
    "import re\n",
    "import operator\n",
    "import json\n",
    "import math\n",
    "from collections import Counter"
   ]
  },
  {
   "cell_type": "code",
   "execution_count": 147,
   "metadata": {},
   "outputs": [],
   "source": [
    "# Load english word dictonary \n",
    "def open_and_clean_english_dict(text_file = 'words.txt'):\n",
    "    with open(text_file) as f:\n",
    "        english_dict = f.read().splitlines()\n",
    "    english_dict = list(set([x.lower() for x in english_dict]))\n",
    "    english_dict = [re.sub(r'[^\\w\\s]','',x) for x in english_dict] \n",
    "    return english_dict "
   ]
  },
  {
   "cell_type": "code",
   "execution_count": 148,
   "metadata": {},
   "outputs": [],
   "source": [
    "def reset_game_metrics():\n",
    "    guesses_list = []\n",
    "    num_guesses = 0\n",
    "    num_misses = 0\n",
    "    correct_guess_dict = {}\n",
    "    game_over = False \n",
    "    return guesses_list, num_guesses, num_misses, correct_guess_dict, game_over"
   ]
  },
  {
   "cell_type": "code",
   "execution_count": 149,
   "metadata": {},
   "outputs": [],
   "source": [
    "def pre_process_input(inputword):\n",
    "    outputword = str(inputword).lower()\n",
    "    return outputword"
   ]
  },
  {
   "cell_type": "code",
   "execution_count": 150,
   "metadata": {},
   "outputs": [],
   "source": [
    "## more sophisticated might weight distribution by actual use/commonly known words \n",
    "def get_words_with_len(word_length):\n",
    "    start_words = [word for word in english_dict if len(word) == word_length]\n",
    "    return start_words"
   ]
  },
  {
   "cell_type": "code",
   "execution_count": 151,
   "metadata": {},
   "outputs": [],
   "source": [
    "def get_letter_dist_from_word_list(list_of_words):\n",
    "    all_letters = [list(w) for w in list_of_words]\n",
    "    all_letters_flat = [item for sublist in all_letters for item in sublist]\n",
    "    letter_count = Counter(all_letters_flat)\n",
    "    return letter_count"
   ]
  },
  {
   "cell_type": "code",
   "execution_count": 152,
   "metadata": {},
   "outputs": [],
   "source": [
    "def get_word_so_far(correct_guess_dict):\n",
    "    word_so_far = []\n",
    "    for i in range(0,input_word_length):\n",
    "        if i in correct_guess_dict.keys():\n",
    "            word_so_far.append(correct_guess_dict[i])\n",
    "        else:\n",
    "            word_so_far.append(\"_\")\n",
    "    word_so_far = str(word_so_far)\n",
    "    return word_so_far"
   ]
  },
  {
   "cell_type": "code",
   "execution_count": 153,
   "metadata": {},
   "outputs": [],
   "source": [
    "## SEARCH BY DISTRIBUTION TO FIND FIRST LETTER \n",
    "def guess_using_dist(dist):\n",
    "    global guesses_list\n",
    "    global num_misses\n",
    "    global num_guesses\n",
    "    global correct_guess_dict\n",
    "    global dists_used \n",
    "    \n",
    "    dist = [x for x in ordered_letter_dist if x[0] not in guesses_list]  # remove guesses already made\n",
    "    letter_freq_tuple = dist[0] # get the largest letter frequency  \n",
    "    letter = letter_freq_tuple[0] # get letter only \n",
    "    print(\"LETTER GUESSED: \", letter)\n",
    "    guesses_list.append(letter)\n",
    "    num_guesses += 1\n",
    "    match_found = False \n",
    "    for index, position in enumerate(inputword):\n",
    "        if letter == position:\n",
    "            correct_guess_dict[index] = letter\n",
    "            match_found = True \n",
    "            print(\"MATCH FOUND\")\n",
    "            print(\"NUMBER OF MISSES\", num_misses)\n",
    "            print(\"WORD SO FAR\", get_word_so_far(correct_guess_dict))\n",
    "            print(\" \")\n",
    "    if match_found == False:\n",
    "        print(\"NO MATCH FOUND\")\n",
    "        num_misses += 1\n",
    "        print(\"NUMBER OF MISSES:\", num_misses)\n",
    "        print(\"WORD SO FAR\", get_word_so_far(correct_guess_dict))\n",
    "        print(\" \")\n",
    "    return correct_guess_dict, guesses_list, num_guesses, num_misses "
   ]
  },
  {
   "cell_type": "code",
   "execution_count": 161,
   "metadata": {},
   "outputs": [],
   "source": [
    "## RECALC DISTRIBUTION WITH NEW WORD INFO \n",
    "def get_remaining_words(word_list_in, correct_guess_dict,guesses_list):\n",
    "\n",
    "    remain_words = word_list_in \n",
    "    \n",
    "    # remove words with letters guessed which are wrong and therefore not in it \n",
    "    wrong_letters = [letter for letter in guesses_list if letter not in list(correct_guess_dict.values())]\n",
    "    remain_words_out1 = remain_words \n",
    "    for guess_letter in wrong_letters:\n",
    "        remain_words_out1 = [word for word in remain_words if guess_letter not in word]\n",
    "\n",
    "    # keep only words with correctly guessed letters in the same position \n",
    "    remain_words_out2 = remain_words_out1\n",
    "    for i in correct_guess_dict.keys():\n",
    "        correct_letter = correct_guess_dict[i]\n",
    "        remain_words_out2 = [word for word in remain_words_out1 if correct_letter == word[i]]\n",
    "        \n",
    "    print(\"NUMBER OF WORDS REMAINING\", len(remain_words_out2))\n",
    "    if len(remain_words_out2) < 11:\n",
    "        print(remain_words_out2)\n",
    "    return remain_words_out2\n"
   ]
  },
  {
   "cell_type": "markdown",
   "metadata": {},
   "source": [
    "## Play game"
   ]
  },
  {
   "cell_type": "code",
   "execution_count": 162,
   "metadata": {},
   "outputs": [],
   "source": [
    "guesses_list, num_guesses, num_misses, correct_guess_dict, game_over = reset_game_metrics()\n",
    "english_dict = open_and_clean_english_dict()"
   ]
  },
  {
   "cell_type": "code",
   "execution_count": 163,
   "metadata": {},
   "outputs": [
    {
     "name": "stdout",
     "output_type": "stream",
     "text": [
      "Word is in the dictonary, execute below to play!\n"
     ]
    }
   ],
   "source": [
    "## input word \n",
    "inputword = 'snip'\n",
    "#inputword = input()\n",
    "\n",
    "if len([x for x in english_dict if inputword in x]) == 0:\n",
    "    print(\"Word is not in the dictonary, try another\")\n",
    "else:\n",
    "    print(\"Word is in the dictonary, execute below to play!\")"
   ]
  },
  {
   "cell_type": "code",
   "execution_count": 164,
   "metadata": {},
   "outputs": [
    {
     "name": "stdout",
     "output_type": "stream",
     "text": [
      "GAME OVER ['s', 'n', 'i', 'p']\n",
      "FINAL NUMBER OF MISSES 5\n"
     ]
    }
   ],
   "source": [
    "inputword = pre_process_input(inputword)\n",
    "input_word_length = len(inputword)\n",
    "start_words = get_words_with_len(input_word_length)\n",
    "\n",
    "while len(correct_guess_dict.keys()) < input_word_length:\n",
    "    letter_dist = get_letter_dist_from_word_list(start_words)\n",
    "    ordered_letter_dist = letter_dist.most_common()\n",
    "\n",
    "    correct_guess_dict, guesses_list, num_guesses, num_misses = guess_using_dist(ordered_letter_dist)\n",
    "    start_words = get_remaining_words(start_words, correct_guess_dict,guesses_list)\n",
    "else:\n",
    "    final_word = str([correct_guess_dict[x] for x in range(0,len(correct_guess_dict.keys()))])\n",
    "    print(\"GAME OVER\", final_word)\n",
    "    print(\"FINAL NUMBER OF MISSES\", num_misses)\n",
    "    guesses_list, num_guesses, num_misses, correct_guess_dict, game_over = reset_game_metrics()"
   ]
  },
  {
   "cell_type": "code",
   "execution_count": 165,
   "metadata": {},
   "outputs": [],
   "source": [
    "## TODO\n",
    "\n",
    "# double same letter bug [X]\n",
    "# find better dictonary with plurals etc.  [x]\n",
    "# change finish condition to having all letters not only one candidate left [x]\n",
    "# clean dictonary of punctuation [x]\n",
    "# could it be improved by guesses when small number of words left even at cost of a miss? \n",
    "    # - unlikely as probabiltiy of randomly right word = 1/num_of_remaining_words, \n",
    "    # - which would need to be larger than 1/26-num_guesses at best - even before weighted distribution is considered \n",
    "# remove stopwords?\n",
    "# weight words by commonality \n"
   ]
  },
  {
   "cell_type": "markdown",
   "metadata": {},
   "source": [
    "## Backcalculate toughest word "
   ]
  },
  {
   "cell_type": "code",
   "execution_count": 286,
   "metadata": {},
   "outputs": [],
   "source": [
    "words_to_search = english_dict[0:204]"
   ]
  },
  {
   "cell_type": "code",
   "execution_count": 283,
   "metadata": {},
   "outputs": [
    {
     "name": "stdout",
     "output_type": "stream",
     "text": [
      "batch number 0\n",
      "records complete...  51\n",
      "batch number 1\n",
      "records complete...  102\n",
      "batch number 2\n",
      "records complete...  153\n",
      "batch number 3\n",
      "records complete...  204\n",
      "batch number 4\n",
      "records complete...  204\n",
      "Wall time: 34.2 s\n"
     ]
    }
   ],
   "source": [
    "%%time\n",
    "\n",
    "number_of_batches = 4\n",
    "\n",
    "batch_size = len(words_to_search) / number_of_batches\n",
    "batch_size = math.ceil(batch_size)\n",
    "\n",
    "results = {}\n",
    "batch_number = 0\n",
    "batch_amount = 0\n",
    "run_size = 0\n",
    "\n",
    "for search_word in words_to_search:\n",
    "    inputword = search_word\n",
    "    inputword = pre_process_input(inputword)\n",
    "    input_word_length = len(inputword)\n",
    "    start_words = get_words_with_len(input_word_length)\n",
    "\n",
    "    while len(correct_guess_dict.keys()) < input_word_length:\n",
    "        letter_dist = get_letter_dist_from_word_list(start_words)\n",
    "        ordered_letter_dist = letter_dist.most_common()\n",
    "\n",
    "        correct_guess_dict, guesses_list, num_guesses, num_misses = guess_using_dist(ordered_letter_dist)\n",
    "        start_words = get_remaining_words(start_words, correct_guess_dict,guesses_list)\n",
    "    else:\n",
    "        final_word = str([correct_guess_dict[x] for x in range(0,len(correct_guess_dict.keys()))])\n",
    "\n",
    "        results[search_word] = num_misses\n",
    "\n",
    "        guesses_list, num_guesses, num_misses, correct_guess_dict, game_over = reset_game_metrics()\n",
    "        \n",
    "        batch_amount += 1\n",
    "        run_size += 1\n",
    "        if batch_amount == batch_size:\n",
    "            results_file = str('results{}'.format(str(batch_number))) + '.json'\n",
    "            print(\"batch number\",str(batch_number))\n",
    "            with open(results_file, 'a') as fp:\n",
    "                json.dump(results, fp)\n",
    "            print(\"records complete... \",str(run_size))\n",
    "            batch_amount = 0\n",
    "            batch_number += 1\n",
    "            results = {}\n",
    "\n",
    "# to flush the final batch \n",
    "results_file = str('results{}'.format(str(batch_number))) + '.json'\n",
    "print(\"batch number\",str(batch_number))\n",
    "with open(results_file, 'a') as fp:\n",
    "    json.dump(results, fp)\n",
    "print(\"records complete... \",str(run_size))"
   ]
  },
  {
   "cell_type": "markdown",
   "metadata": {},
   "source": [
    "## Reading results"
   ]
  },
  {
   "cell_type": "code",
   "execution_count": 253,
   "metadata": {},
   "outputs": [],
   "source": [
    "# def Merge(dict1, dict2): \n",
    "#     res = {**dict1, **dict2} \n",
    "#     return res \n",
    "\n",
    "# main_dict = {}\n",
    "\n",
    "# for x in range(0,2):\n",
    "#     file_name = str('results{}'.format(str(x))) + '.json'\n",
    "#     with open(file_name) as data_file:    \n",
    "#         data = json.load(data_file)\n",
    "#     main_dict = Merge(main_dict,data)"
   ]
  },
  {
   "cell_type": "code",
   "execution_count": 275,
   "metadata": {},
   "outputs": [],
   "source": [
    "# import pandas as pd\n",
    "# df = pd.Series(main_dict, name='num_misses').reset_index()"
   ]
  },
  {
   "cell_type": "code",
   "execution_count": null,
   "metadata": {},
   "outputs": [],
   "source": [
    "# toughest_word = max(results.items(), key=operator.itemgetter(1))[0]\n",
    "# largest_num_misses = results[toughest_word]\n",
    "# toughest_words = [k for k,v in results.items() if v == largest_num_misses]"
   ]
  }
 ],
 "metadata": {
  "kernelspec": {
   "display_name": "Python (3.6)",
   "language": "python",
   "name": "py36"
  },
  "language_info": {
   "codemirror_mode": {
    "name": "ipython",
    "version": 3
   },
   "file_extension": ".py",
   "mimetype": "text/x-python",
   "name": "python",
   "nbconvert_exporter": "python",
   "pygments_lexer": "ipython3",
   "version": "3.6.6"
  }
 },
 "nbformat": 4,
 "nbformat_minor": 2
}
